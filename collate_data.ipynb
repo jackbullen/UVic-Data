{
 "cells": [
  {
   "cell_type": "code",
   "execution_count": 113,
   "id": "3207f3cf-4bd4-40ac-aa26-7e063da74424",
   "metadata": {},
   "outputs": [],
   "source": [
    "from collections import Counter, defaultdict\n",
    "import json\n",
    "import re"
   ]
  },
  {
   "cell_type": "code",
   "execution_count": 180,
   "id": "363d9a35-d48d-445c-8299-f11034a30cd6",
   "metadata": {},
   "outputs": [],
   "source": [
    "with open(\"banner/courses.json\", \"r\") as f:\n",
    "    sections = json.load(f)\n",
    "\n",
    "with open(\"calendar/degrees_data.json\", \"r\") as f:\n",
    "    degrees = json.load(f)\n",
    "\n",
    "with open(\"calendar/course_data.json\", \"r\") as f:\n",
    "    courses= json.load(f)\n",
    "\n",
    "with open(\"map/buildings.json\", \"r\") as f:\n",
    "    buildings = json.load(f)"
   ]
  },
  {
   "cell_type": "code",
   "execution_count": 191,
   "id": "9273a22f-a57d-4aed-9569-237dad32abd6",
   "metadata": {},
   "outputs": [],
   "source": [
    "cleaned_sections = dict()\n",
    "cleaned_course_sections = defaultdict(list)\n",
    "programs = defaultdict(list)\n",
    "rooms = defaultdict(set)\n",
    "\n",
    "for sec in sections.values():\n",
    "    \n",
    "    clean_sec = {\n",
    "        'term': sec['term'],\n",
    "        'crn': sec['courseReferenceNumber'],\n",
    "        'subject_code': sec['subject'],\n",
    "        'subject': sec['subjectDescription'],\n",
    "        'course_number': sec['courseNumber'],\n",
    "        'course_title': sec['courseTitle'],\n",
    "        'sequence': sec['sequenceNumber'],\n",
    "        'type': sec['scheduleTypeDescription'],\n",
    "        'is_linked': sec['isSectionLinked'],\n",
    "        'credit': sec['creditHours'],\n",
    "        'faculty': {xxx['bannerId']:{'name':xxx['displayName'], 'contact':xxx['emailAddress'], 'is_primary':xxx['primaryIndicator']} for xxx in sec['faculty']},\n",
    "        'meetings': [{'start':xxx['meetingTime']['beginTime'], 'end':xxx['meetingTime']['endTime'], 'building':xxx['meetingTime']['buildingDescription'], 'room':xxx['meetingTime']['room'], 'monday':xxx['meetingTime']['monday'], 'tuesday':xxx['meetingTime']['tuesday'], 'wednesday':xxx['meetingTime']['wednesday'], 'thursday':xxx['meetingTime']['thursday'], 'friday':xxx['meetingTime']['friday'], 'saturday':xxx['meetingTime']['saturday'], 'sunday':xxx['meetingTime']['sunday']} for xxx in sec['meetingsFaculty']],\n",
    "        'campus': sec['campusDescription'],\n",
    "        'delivery': sec['instructionalMethod']\n",
    "    }\n",
    "\n",
    "    for meeting in sec[\"meetingsFaculty\"]:\n",
    "        if meeting[\"meetingTime\"] is not None:\n",
    "            time = meeting[\"meetingTime\"]\n",
    "            if time[\"buildingDescription\"] is not None and time[\"room\"] is not None:\n",
    "\n",
    "                rooms[time[\"buildingDescription\"]].add(time[\"room\"])\n",
    "        \n",
    "\n",
    "    cleaned_course_sections[sec['subject']+sec['courseNumber']].append(clean_sec)\n",
    "\n",
    "    cleaned_sections[sec['courseReferenceNumber']] = clean_sec"
   ]
  },
  {
   "cell_type": "code",
   "execution_count": 192,
   "id": "a01fd4f1-2702-4f76-9d62-c271262d9de1",
   "metadata": {},
   "outputs": [],
   "source": [
    "cleaned_buildings = dict()\n",
    "\n",
    "for bldg in rooms:\n",
    "    cleaned_buildings[bldg] = {\n",
    "        'rooms': list(rooms[bldg]) # cast the sets into lists so we can serialize to json. need to do this as sets are not hashable.\n",
    "    }"
   ]
  },
  {
   "cell_type": "code",
   "execution_count": 193,
   "id": "80cef798-2226-4e8a-898b-0690db6d575c",
   "metadata": {},
   "outputs": [],
   "source": [
    "# modify this to have lat longs for rooms once i get them. \n",
    "# dont really need the current lat long as it's just an avg and some of them aren't accurate..\n",
    "\n",
    "for bldg in buildings:\n",
    "    if cleaned_buildings.get(bldg):\n",
    "        cleaned_buildings[bldg] = {\n",
    "            'lat': buildings[bldg]['lat'],\n",
    "            'long': buildings[bldg]['lon'],\n",
    "            'rooms': cleaned_buildings.get(bldg)['rooms']\n",
    "        }\n",
    "    else:\n",
    "        cleaned_buildings[bldg] = {\n",
    "            'lat': buildings[bldg]['lat'],\n",
    "            'long': buildings[bldg]['lon'],\n",
    "            'rooms': []\n",
    "        }"
   ]
  },
  {
   "cell_type": "code",
   "execution_count": 97,
   "id": "0cb23038-32c7-43aa-b3bd-20cb01be5f7c",
   "metadata": {},
   "outputs": [],
   "source": [
    "cleaned_courses = dict()\n",
    "for course in courses.values():\n",
    "    id = course['courseID']\n",
    "\n",
    "    cleaned_courses[id] = {\n",
    "        'pid': course['pid'],\n",
    "        'description': course['description'],\n",
    "        'notes': course['notes'],\n",
    "        'link': f\"https://www.uvic.ca/calendar/future/undergrad/index.php#/courses/{course['pid']}\",\n",
    "        'sections': cleaned_course_sections[id]\n",
    "    }"
   ]
  },
  {
   "cell_type": "code",
   "execution_count": 116,
   "id": "c0d45547-f12d-4458-93cb-91adda516fbc",
   "metadata": {},
   "outputs": [],
   "source": [
    "cleaned_degrees = dict()\n",
    "\n",
    "for degree in degrees.values():\n",
    "    id = degree['code']\n",
    "    if degree.get('requirements'):\n",
    "        courses = re.findall(r'([A-Z]{2,4}\\d{3}[A-Z]?\\d?|[A-Z]{2,4})', degree.get('requirements'))\n",
    "        potential_program_codes = [re.findall(r'[A-Z]{2,4}', code)[0] for code in courses]\n",
    "        program_code = Counter(potential_program_codes).most_common(1)[0][0]\n",
    "    \n",
    "    cleaned_degrees[id] = {\n",
    "        'code': id,\n",
    "        'type': degree.get('cred'),\n",
    "        'description': degree.get('description'), # parse this and make it useful. there are locally referenced links which won't work on other sites.\n",
    "        'subject': program_code,\n",
    "        'requirements': degree.get('requirements'), # parse this to extract a tree that holds logic for courses and requirements. will first need to get prereqs for each course. this will be a bit involved...\n",
    "        'specializations': degree.get('specializations'),\n",
    "        'notes': degree.get('notes'),\n",
    "        'link': f\"https://www.uvic.ca/calendar/future/undergrad/index.php#/programs/{degree.get('pid')}\",\n",
    "        \n",
    "    }\n",
    "    "
   ]
  },
  {
   "cell_type": "code",
   "execution_count": 195,
   "id": "33a2deed-4858-48d0-8831-ebabdc205576",
   "metadata": {},
   "outputs": [
    {
     "name": "stdout",
     "output_type": "stream",
     "text": [
      "277 degrees\n",
      "3547 courses\n",
      "2726 courses in fall and spring 23/24\n",
      "821 courses not being offered this year\n",
      "7127 sections in fall and spring 23/24\n",
      "\n",
      "27 buildings on campus. Rooms in use this year:\n",
      "   David Strong Building has 13 rooms\n",
      "   Clearihue Building has 45 rooms\n",
      "   David Turpin Building has 11 rooms\n",
      "   Elliott Building has 27 rooms\n",
      "   Engineering Comp Science Bldg has 15 rooms\n",
      "   Cornett Building has 24 rooms\n",
      "   MacLaurin Building has 35 rooms\n",
      "   Fine Arts Building has 6 rooms\n",
      "   Hickman Building has 4 rooms\n",
      "   McKinnon Building has 12 rooms\n",
      "   Stadium has 1 rooms\n",
      "   Field has 2 rooms\n",
      "   Bob Wright Centre has 12 rooms\n",
      "   Visual Arts Building has 13 rooms\n",
      "   Human &amp; Social Development has 6 rooms\n",
      "   Business &amp; Economics Building has 5 rooms\n",
      "   Fraser Building has 9 rooms\n",
      "   First Peoples House has 2 rooms\n",
      "   Sŋ&eacute;qə ʔ&eacute;ʔləŋ | Sngequ House has 2 rooms\n",
      "   Petch Building has 7 rooms\n",
      "   Cunningham Building has 12 rooms\n",
      "   Engineering Lab Wing has 21 rooms\n",
      "   Jamie Cassels Centre has 1 rooms\n",
      "   Ian Stewart Complex has 1 rooms\n",
      "   Student Union Building has 1 rooms\n",
      "   Phoenix Theatre has 7 rooms\n",
      "   McPherson Library has 1 rooms\n"
     ]
    }
   ],
   "source": [
    "print(f\"{len(cleaned_degrees)} degrees\")\n",
    "print(f\"{len(cleaned_courses)} courses\")\n",
    "print(f\"{len(cleaned_course_sections)} courses in fall and spring 23/24\")\n",
    "print(f\"{len(cleaned_courses)-len(cleaned_course_sections)} courses not being offered this year\")\n",
    "print(f\"{len(cleaned_sections)} sections in fall and spring 23/24\")\n",
    "print()\n",
    "print(f\"{len(rooms)} buildings on campus. Rooms in use this year:\")\n",
    "for bldg in rooms:\n",
    "    print(f\"   {bldg} has {len(rooms[bldg])} rooms\")"
   ]
  },
  {
   "cell_type": "code",
   "execution_count": 197,
   "id": "c659b945-bb54-4b17-8533-b890896a7f7c",
   "metadata": {},
   "outputs": [],
   "source": [
    "# Not needed as all sections are in the courses.json\n",
    "# with open(\"sections.json\", \"w\") as f:\n",
    "#     json.dump(cleaned_sections, f)\n",
    "\n",
    "with open(\"output/courses.json\", \"w\") as f:\n",
    "    json.dump(cleaned_courses, f)\n",
    "\n",
    "with open(\"output/degrees.json\", \"w\") as f:\n",
    "    json.dump(cleaned_degrees, f)\n",
    "\n",
    "with open(\"output/buildings.json\", \"w\") as f:\n",
    "    json.dump(cleaned_buildings, f)"
   ]
  }
 ],
 "metadata": {
  "kernelspec": {
   "display_name": "Python 3 (ipykernel)",
   "language": "python",
   "name": "python3"
  },
  "language_info": {
   "codemirror_mode": {
    "name": "ipython",
    "version": 3
   },
   "file_extension": ".py",
   "mimetype": "text/x-python",
   "name": "python",
   "nbconvert_exporter": "python",
   "pygments_lexer": "ipython3",
   "version": "3.11.4"
  }
 },
 "nbformat": 4,
 "nbformat_minor": 5
}
